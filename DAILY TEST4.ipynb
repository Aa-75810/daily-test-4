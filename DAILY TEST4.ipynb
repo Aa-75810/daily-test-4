{
 "cells": [
  {
   "cell_type": "markdown",
   "id": "f20f0956",
   "metadata": {},
   "source": [
    "# Q-1 Write a python program to check the validity of the password"
   ]
  },
  {
   "cell_type": "code",
   "execution_count": 18,
   "id": "a17348d7",
   "metadata": {},
   "outputs": [
    {
     "name": "stdout",
     "output_type": "stream",
     "text": [
      "ENTER YOUR PASSWORD: cdfsd\n",
      "Invalid Password\n"
     ]
    }
   ],
   "source": [
    "l, u, p, d = 0, 0, 0, 0\n",
    "s = input('ENTER YOUR PASSWORD: ')\n",
    "if (len(s) >= 8 and len(s)<=16):\n",
    "    for i in s:\n",
    " \n",
    "        # counting lowercase alphabets\n",
    "        if (i.islower()):\n",
    "            l+=1           \n",
    " \n",
    "        # counting uppercase alphabets\n",
    "        if (i.isupper()):\n",
    "            u+=1           \n",
    " \n",
    "        # counting digits\n",
    "        if (i.isdigit()):\n",
    "            d+=1           \n",
    " \n",
    "        # counting the mentioned special characters\n",
    "        if(i=='@'or i=='$' or i=='_'):\n",
    "            p+=1          \n",
    "if (l>=1 and u>=1 and p>=1 and d>=1 and l+p+u+d==len(s)):\n",
    "    print(\"Valid Password\")\n",
    "else:\n",
    "    print(\"Invalid Password\")"
   ]
  },
  {
   "cell_type": "markdown",
   "id": "3fb7e966",
   "metadata": {},
   "source": [
    "# Q-2 Write a python program to find numbers between 100 and 400 where each number of digit is even number"
   ]
  },
  {
   "cell_type": "code",
   "execution_count": 19,
   "id": "f4d6410b",
   "metadata": {},
   "outputs": [
    {
     "name": "stdout",
     "output_type": "stream",
     "text": [
      "100,102,104,106,108,110,112,114,116,118,120,122,124,126,128,130,132,134,136,138,140,142,144,146,148,150,152,154,156,158,160,162,164,166,168,170,172,174,176,178,180,182,184,186,188,190,192,194,196,198,200,202,204,206,208,210,212,214,216,218,220,222,224,226,228,230,232,234,236,238,240,242,244,246,248,250,252,254,256,258,260,262,264,266,268,270,272,274,276,278,280,282,284,286,288,290,292,294,296,298,300,302,304,306,308,310,312,314,316,318,320,322,324,326,328,330,332,334,336,338,340,342,344,346,348,350,352,354,356,358,360,362,364,366,368,370,372,374,376,378,380,382,384,386,388,390,392,394,396,398,400,"
     ]
    }
   ],
   "source": [
    "for i in range(100,402):\n",
    "    if (i%2==0):\n",
    "        print(i,end=',')\n",
    "        i+=1"
   ]
  },
  {
   "cell_type": "markdown",
   "id": "446b067f",
   "metadata": {},
   "source": [
    "# Q-3 Write a python program to check whether the triangle is equilateral, isoceles, or scalene."
   ]
  },
  {
   "cell_type": "code",
   "execution_count": 20,
   "id": "1291ebfa",
   "metadata": {},
   "outputs": [
    {
     "name": "stdout",
     "output_type": "stream",
     "text": [
      "ENTER FIRST SIDE: 10\n",
      "ENTER SECOND SIDE: 20\n",
      "ENTER THIRD SIDE: 30\n",
      "ITS SCALENE TRIANGLE\n"
     ]
    }
   ],
   "source": [
    "a = int(input('ENTER FIRST SIDE: '))\n",
    "b = int(input('ENTER SECOND SIDE: '))\n",
    "c = int(input('ENTER THIRD SIDE: '))\n",
    "if a==b and b==c:\n",
    "    print('ITS EQUILATERAL TRIANGLE')\n",
    "elif a!=b and b!=c:\n",
    "    print('ITS SCALENE TRIANGLE')\n",
    "else:\n",
    "    print('ITS ISOCELES TRIANGLE')"
   ]
  },
  {
   "cell_type": "markdown",
   "id": "25e72270",
   "metadata": {},
   "source": [
    "# Q-4 Write a python program to get next day of given date"
   ]
  },
  {
   "cell_type": "code",
   "execution_count": 24,
   "id": "70209fbe",
   "metadata": {},
   "outputs": [
    {
     "name": "stdout",
     "output_type": "stream",
     "text": [
      "Input a year: 2022\n",
      "Input a month [1-12]: 11\n",
      "Input a day [1-31]: 10\n",
      "The next date is [yyyy-mm-dd] 2022-11-11.\n"
     ]
    }
   ],
   "source": [
    "year = int(input(\"Input a year: \"))\n",
    "\n",
    "if (year % 400 == 0):\n",
    "    leap_year = True\n",
    "elif (year % 100 == 0):\n",
    "    leap_year = False\n",
    "elif (year % 4 == 0):\n",
    "    leap_year = True\n",
    "else:\n",
    "    leap_year = False\n",
    "    \n",
    "\n",
    "month = int(input(\"Input a month [1-12]: \"))\n",
    "\n",
    "if month in (1, 3, 5, 7, 8, 10, 12):\n",
    "    month_length = 31\n",
    "elif month == 2:\n",
    "    if leap_year:\n",
    "        month_length = 29\n",
    "    else:\n",
    "        month_length = 28\n",
    "else:\n",
    "    month_length = 30\n",
    "\n",
    "    \n",
    "day = int(input(\"Input a day [1-31]: \"))\n",
    "\n",
    "if day < month_length:\n",
    "    day += 1\n",
    "else:\n",
    "    day = 1\n",
    "    if month == 12:\n",
    "        month = 1\n",
    "        year += 1\n",
    "    else:\n",
    "        month += 1\n",
    "print(\"The next date is [yyyy-mm-dd] %d-%d-%d.\" % (year, month, day))\n"
   ]
  },
  {
   "cell_type": "markdown",
   "id": "7ea8fe33",
   "metadata": {},
   "source": [
    "# Q-5 Write a python program to print alphabet pattern"
   ]
  },
  {
   "cell_type": "code",
   "execution_count": 25,
   "id": "b155dcfc",
   "metadata": {},
   "outputs": [
    {
     "name": "stdout",
     "output_type": "stream",
     "text": [
      "  ***  \n",
      " *   * \n",
      " *   * \n",
      " ***** \n",
      " *   * \n",
      " *   * \n",
      " *   * \n",
      "\n"
     ]
    }
   ],
   "source": [
    "result_str=\"\";    \n",
    "for row in range(0,7):    \n",
    "    for column in range(0,7):     \n",
    "        if (((column == 1 or column == 5) and row != 0) or ((row == 0 or row == 3) and (column > 1 and column < 5))):    \n",
    "            result_str=result_str+\"*\"    \n",
    "        else:      \n",
    "            result_str=result_str+\" \"    \n",
    "    result_str=result_str+\"\\n\"    \n",
    "print(result_str);"
   ]
  },
  {
   "cell_type": "code",
   "execution_count": null,
   "id": "bdc8893a",
   "metadata": {},
   "outputs": [],
   "source": [
    "# Q-6 Write a python program for Given number N such that N >= 5. The task is to print a Hut Star Pattern with (N + 3) rows as shown in the below examples."
   ]
  },
  {
   "cell_type": "code",
   "execution_count": null,
   "id": "5345f74e",
   "metadata": {},
   "outputs": [],
   "source": []
  },
  {
   "cell_type": "markdown",
   "id": "d3992b31",
   "metadata": {},
   "source": [
    "# Q-7 Write a python program to find the quadrant through given co-ordinates"
   ]
  },
  {
   "cell_type": "code",
   "execution_count": 26,
   "id": "706ad728",
   "metadata": {},
   "outputs": [
    {
     "name": "stdout",
     "output_type": "stream",
     "text": [
      "ENTER THE X-COORDINATES: 2\n",
      "ENTER THE Y-COORDINATES: -3\n",
      "SHAPE IS IN FOURTH QUADRANTS\n"
     ]
    }
   ],
   "source": [
    "x= int(input('ENTER THE X-COORDINATES: '))\n",
    "y = int(input('ENTER THE Y-COORDINATES: '))\n",
    "if (x<0 and y<0):\n",
    "    print('SHAPE IS IN THIRD QUADRANTS')\n",
    "elif (x<0 and y>0):\n",
    "    print('SHAPE IS IN SECOND QUADRANTS')\n",
    "elif (x>0 and y<0):\n",
    "    print('SHAPE IS IN FOURTH QUADRANTS')\n",
    "else:\n",
    "    print('SHAPE IS IN FIRST QUADRANTS')"
   ]
  },
  {
   "cell_type": "markdown",
   "id": "4b521a0c",
   "metadata": {},
   "source": [
    "# Q-8 Write a python program to construct a nested loop"
   ]
  },
  {
   "cell_type": "code",
   "execution_count": 27,
   "id": "764924f4",
   "metadata": {},
   "outputs": [
    {
     "name": "stdout",
     "output_type": "stream",
     "text": [
      "ENTER LOOP NUMBER: 5\n",
      "\n",
      "* \n",
      "* * \n",
      "* * * \n",
      "* * * * \n",
      "* * * * * \n",
      "* * * * \n",
      "* * * \n",
      "* * \n",
      "* \n"
     ]
    }
   ],
   "source": [
    "n=int(input('ENTER LOOP NUMBER: '))\n",
    "for i in range(n):\n",
    "    for j in range(i):\n",
    "        print ('* ', end=\"\")\n",
    "    print('')\n",
    "    \n",
    "for i in range(n,0,-1):\n",
    "    for j in range(i):\n",
    "        print('* ', end=\"\")\n",
    "    print('')"
   ]
  },
  {
   "cell_type": "markdown",
   "id": "6fe212f1",
   "metadata": {},
   "source": [
    "# Q-9 Write a python program to construct the following pattern, using a nested for loop.\n",
    "\n",
    "a = ['A','B','C','D','E','F','G','H','I','J','K','L','M','N','O']\n"
   ]
  },
  {
   "cell_type": "code",
   "execution_count": null,
   "id": "10dc5896",
   "metadata": {},
   "outputs": [],
   "source": []
  },
  {
   "cell_type": "markdown",
   "id": "84c6b674",
   "metadata": {},
   "source": [
    "# Q-10 Write a python program break a list into chunks"
   ]
  },
  {
   "cell_type": "code",
   "execution_count": 28,
   "id": "28a9a8a8",
   "metadata": {},
   "outputs": [
    {
     "name": "stdout",
     "output_type": "stream",
     "text": [
      "ENTER YOUR NUMBER: 2\n",
      "[1, 2]\n",
      "[3, 4]\n",
      "[5, 6]\n",
      "[7, 8]\n",
      "[9, 10]\n",
      "[11]\n"
     ]
    }
   ],
   "source": [
    "a = [1, 2, 3, 4, 5,6, 7, 8, 9,10,11]\n",
    "start = 0\n",
    "end = len(a)\n",
    "N = int(input('ENTER YOUR NUMBER: '))\n",
    "for i in range(start, end, N):\n",
    "    x = i\n",
    "    print(a[x:x+N])"
   ]
  }
 ],
 "metadata": {
  "kernelspec": {
   "display_name": "Python 3 (ipykernel)",
   "language": "python",
   "name": "python3"
  },
  "language_info": {
   "codemirror_mode": {
    "name": "ipython",
    "version": 3
   },
   "file_extension": ".py",
   "mimetype": "text/x-python",
   "name": "python",
   "nbconvert_exporter": "python",
   "pygments_lexer": "ipython3",
   "version": "3.9.12"
  }
 },
 "nbformat": 4,
 "nbformat_minor": 5
}
